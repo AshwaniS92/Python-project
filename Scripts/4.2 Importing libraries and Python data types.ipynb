{
 "cells": [
  {
   "cell_type": "markdown",
   "id": "8ced2f95-3797-4f0c-b52e-ce45188b5885",
   "metadata": {},
   "source": [
    "# 01.Importing libraries"
   ]
  },
  {
   "cell_type": "code",
   "execution_count": 1,
   "id": "bd9f3937-5671-4aa9-abfc-34304ae34c03",
   "metadata": {},
   "outputs": [],
   "source": [
    "# Import Libraries\n",
    "import pandas as pd\n",
    "import numpy as np\n",
    "import os"
   ]
  },
  {
   "cell_type": "markdown",
   "id": "8c56e163-9dea-4df4-b311-cd75bedbafff",
   "metadata": {},
   "source": [
    "# 02.Data Types"
   ]
  },
  {
   "cell_type": "code",
   "execution_count": 37,
   "id": "935e9cfb-9b02-4d7a-878f-959eea645495",
   "metadata": {},
   "outputs": [],
   "source": [
    "a=20  \n",
    "b=80"
   ]
  },
  {
   "cell_type": "code",
   "execution_count": 39,
   "id": "ebca5543-fe29-43f2-8e9c-151adf6b493b",
   "metadata": {},
   "outputs": [
    {
     "name": "stdout",
     "output_type": "stream",
     "text": [
      "100\n"
     ]
    }
   ],
   "source": [
    "print (a+b)"
   ]
  },
  {
   "cell_type": "code",
   "execution_count": 41,
   "id": "ed18aecb-1378-4dba-8675-154f5e968216",
   "metadata": {},
   "outputs": [],
   "source": [
    "c=35"
   ]
  },
  {
   "cell_type": "code",
   "execution_count": 43,
   "id": "21edd388-bd94-42a8-8949-c4960d8c8535",
   "metadata": {},
   "outputs": [
    {
     "name": "stdout",
     "output_type": "stream",
     "text": [
      "100\n"
     ]
    }
   ],
   "source": [
    "print (c+65)"
   ]
  },
  {
   "cell_type": "code",
   "execution_count": 52,
   "id": "541147d1-fc6a-4a26-a9fe-3c25ff77e9d6",
   "metadata": {},
   "outputs": [],
   "source": [
    "n=75"
   ]
  },
  {
   "cell_type": "code",
   "execution_count": 54,
   "id": "bcfa9a7a-338e-4a4b-87bd-963adc38922c",
   "metadata": {},
   "outputs": [],
   "source": [
    "n = n+25"
   ]
  },
  {
   "cell_type": "code",
   "execution_count": 58,
   "id": "933f1ba3-4a65-4d1c-8c61-15ff5074a849",
   "metadata": {},
   "outputs": [
    {
     "name": "stdout",
     "output_type": "stream",
     "text": [
      "100\n"
     ]
    }
   ],
   "source": [
    "print(n)"
   ]
  },
  {
   "cell_type": "code",
   "execution_count": 62,
   "id": "88c8421c-78ce-4f97-8a8d-772d6e618dff",
   "metadata": {},
   "outputs": [],
   "source": [
    "r=7.5\n",
    "s= 2.25"
   ]
  },
  {
   "cell_type": "code",
   "execution_count": 64,
   "id": "80ba2d1e-4f38-4cf8-a3c3-104e50bce8b8",
   "metadata": {},
   "outputs": [
    {
     "name": "stdout",
     "output_type": "stream",
     "text": [
      "3.3333333333333335\n"
     ]
    }
   ],
   "source": [
    "print (r/s)"
   ]
  },
  {
   "cell_type": "code",
   "execution_count": 66,
   "id": "1299298a-7fb0-4e50-a2c4-07340e195b9a",
   "metadata": {},
   "outputs": [],
   "source": [
    "a = 'Wel'\n",
    "b = 'come'"
   ]
  },
  {
   "cell_type": "code",
   "execution_count": 68,
   "id": "5f86b42f-e98e-489a-b242-e86566fd7e2e",
   "metadata": {},
   "outputs": [
    {
     "name": "stdout",
     "output_type": "stream",
     "text": [
      "Welcome\n"
     ]
    }
   ],
   "source": [
    "print (a+b)"
   ]
  },
  {
   "cell_type": "code",
   "execution_count": 78,
   "id": "16f2d15c-acf9-4b7d-84fb-3a0e0d3d457f",
   "metadata": {},
   "outputs": [],
   "source": [
    "x= 'Iam enjoying '"
   ]
  },
  {
   "cell_type": "code",
   "execution_count": 82,
   "id": "9654c645-ccea-4d1f-ba4b-9fe201c743b1",
   "metadata": {},
   "outputs": [],
   "source": [
    "y= 'coding in Python.'"
   ]
  },
  {
   "cell_type": "code",
   "execution_count": 84,
   "id": "78ab8930-b76c-4b71-ae2b-1693ae7385b2",
   "metadata": {},
   "outputs": [
    {
     "name": "stdout",
     "output_type": "stream",
     "text": [
      "Iam enjoying coding in Python.\n"
     ]
    }
   ],
   "source": [
    "print (x+y)"
   ]
  },
  {
   "cell_type": "code",
   "execution_count": 88,
   "id": "19a0a17a-b25e-4302-89de-7f50a84b3ff6",
   "metadata": {},
   "outputs": [],
   "source": [
    "a = 'python'"
   ]
  },
  {
   "cell_type": "code",
   "execution_count": 90,
   "id": "3369fe3d-7de3-4fca-a97a-715dcdb808cf",
   "metadata": {},
   "outputs": [
    {
     "data": {
      "text/plain": [
       "'pythonpythonpythonpythonpythonpythonpythonpythonpythonpythonpythonpythonpythonpythonpythonpythonpythonpythonpythonpythonpythonpythonpythonpythonpythonpythonpythonpythonpythonpythonpythonpythonpythonpythonpythonpythonpythonpythonpythonpythonpythonpythonpythonpythonpythonpythonpythonpythonpythonpythonpythonpythonpythonpythonpythonpythonpythonpythonpythonpythonpythonpythonpythonpythonpythonpythonpythonpythonpythonpythonpythonpythonpythonpythonpythonpythonpythonpythonpythonpythonpythonpythonpythonpythonpythonpythonpythonpythonpythonpythonpythonpythonpythonpythonpythonpythonpythonpythonpythonpython'"
      ]
     },
     "execution_count": 90,
     "metadata": {},
     "output_type": "execute_result"
    }
   ],
   "source": [
    "a*100"
   ]
  },
  {
   "cell_type": "code",
   "execution_count": null,
   "id": "5a7dd014-57e3-4fd1-92c4-cb5cbc1ff81d",
   "metadata": {},
   "outputs": [],
   "source": []
  }
 ],
 "metadata": {
  "kernelspec": {
   "display_name": "Python 3 (ipykernel)",
   "language": "python",
   "name": "python3"
  },
  "language_info": {
   "codemirror_mode": {
    "name": "ipython",
    "version": 3
   },
   "file_extension": ".py",
   "mimetype": "text/x-python",
   "name": "python",
   "nbconvert_exporter": "python",
   "pygments_lexer": "ipython3",
   "version": "3.11.3"
  }
 },
 "nbformat": 4,
 "nbformat_minor": 5
}
